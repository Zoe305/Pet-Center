{
  "cells": [
    {
      "cell_type": "code",
      "execution_count": null,
      "metadata": {
        "colab": {
          "base_uri": "https://localhost:8080/"
        },
        "id": "29CRUB9IZ4fo",
        "outputId": "bb9c2f44-a2cd-43f6-c6f9-d05a577ff4f5"
      },
      "outputs": [],
      "source": [
        "import pandas as pd\n",
        "from pyproj import Proj, transform\n",
        "from pulp import *\n",
        "from haversine import haversine\n",
        "\n",
        "# Google Drive 연동\n",
        "from google.colab import drive\n",
        "drive.mount('/content/drive')\n",
        "\n",
        "# 데이터 불러오기\n",
        "infra_df = pd.read_csv('/content/drive/MyDrive/mclp/인프라.csv', encoding='utf-8')\n",
        "accessibility_df = pd.read_csv('/content/drive/MyDrive/mclp/접근성.csv', encoding='utf-8')\n",
        "demand_df = pd.read_csv('/content/drive/MyDrive/mclp/수요.csv', encoding='utf-8')\n",
        "\n",
        "# 인프라 데이터의 좌표를 4326으로 변환\n",
        "in_proj = Proj(init='epsg:5179')\n",
        "out_proj = Proj(init='epsg:4326')\n",
        "\n",
        "infra_df['경도'], infra_df['위도'] = transform(in_proj, out_proj, infra_df['xcoord'].values, infra_df['ycoord'].values)\n",
        "\n",
        "# 수요 데이터의 좌표를 4326으로 변환\n",
        "demand_df['경도'], demand_df['위도'] = transform(in_proj, out_proj, demand_df['xcoord'].values, demand_df['ycoord'].values)\n",
        "\n",
        "# MCLP 모델링\n",
        "model = LpProblem(name=\"Maximum_Coverage_Location_Problem\", sense=LpMaximize)\n",
        "\n",
        "# 좌표를 저장할 변수\n",
        "x = LpVariable.dicts(\"location\", infra_df.index, 0, 1, LpBinary)\n",
        "\n",
        "# 목적함수 설정\n",
        "model += lpSum([demand_df['demand'][i] * x[i] for i in infra_df.index])\n",
        "\n",
        "# 수요지수, 접근성지수, 인프라지수에 대한 제약 설정\n",
        "for i in infra_df.index:\n",
        "    model += lpSum([haversine((infra_df['위도'][i], infra_df['경도'][i]),\n",
        "                              (infra_df['위도'][j], infra_df['경도'][j])) * x[j] for j in infra_df.index]) <= 250\n",
        "\n",
        "# 최적화 수행\n",
        "model.solve()\n",
        "\n",
        "# 결과 확인\n",
        "result_locations = [i for i in infra_df.index if x[i].value() == 1]\n",
        "\n",
        "# 결과값을 데이터프레임에 추가하고 수요지수로 정렬하여 순위 매기기\n",
        "result_df = infra_df.loc[result_locations, ['위도', '경도']]\n",
        "\n",
        "# 상위 10곳만 선택\n",
        "result_top10 = result_df.head(10)\n",
        "\n",
        "# 상위 10곳의 순위 정보를 추가하여 CSV 파일로 저장\n",
        "result_top10['순위'] = range(1, 11)\n",
        "result_top10.to_csv('/content/drive/MyDrive/mclp/최적입지_결과_순위.csv', index=False)\n"
      ]
    }
  ],
  "metadata": {
    "colab": {
      "provenance": []
    },
    "kernelspec": {
      "display_name": "Python 3",
      "name": "python3"
    },
    "language_info": {
      "name": "python"
    }
  },
  "nbformat": 4,
  "nbformat_minor": 0
}
