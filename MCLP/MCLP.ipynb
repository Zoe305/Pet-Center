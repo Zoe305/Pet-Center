{
  "nbformat": 4,
  "nbformat_minor": 0,
  "metadata": {
    "colab": {
      "provenance": []
    },
    "kernelspec": {
      "name": "python3",
      "display_name": "Python 3"
    },
    "language_info": {
      "name": "python"
    }
  },
  "cells": [
    {
      "cell_type": "code",
      "execution_count": null,
      "metadata": {
        "colab": {
          "base_uri": "https://localhost:8080/"
        },
        "id": "29CRUB9IZ4fo",
        "outputId": "bb9c2f44-a2cd-43f6-c6f9-d05a577ff4f5"
      },
      "outputs": [
        {
          "output_type": "stream",
          "name": "stdout",
          "text": [
            "Drive already mounted at /content/drive; to attempt to forcibly remount, call drive.mount(\"/content/drive\", force_remount=True).\n"
          ]
        },
        {
          "output_type": "stream",
          "name": "stderr",
          "text": [
            "/usr/local/lib/python3.10/dist-packages/pyproj/crs/crs.py:141: FutureWarning: '+init=<authority>:<code>' syntax is deprecated. '<authority>:<code>' is the preferred initialization method. When making the change, be mindful of axis order changes: https://pyproj4.github.io/pyproj/stable/gotchas.html#axis-order-changes-in-proj-6\n",
            "  in_crs_string = _prepare_from_proj_string(in_crs_string)\n",
            "/usr/local/lib/python3.10/dist-packages/pyproj/crs/crs.py:141: FutureWarning: '+init=<authority>:<code>' syntax is deprecated. '<authority>:<code>' is the preferred initialization method. When making the change, be mindful of axis order changes: https://pyproj4.github.io/pyproj/stable/gotchas.html#axis-order-changes-in-proj-6\n",
            "  in_crs_string = _prepare_from_proj_string(in_crs_string)\n",
            "<ipython-input-12-6e11d4e2e3c1>:19: FutureWarning: This function is deprecated. See: https://pyproj4.github.io/pyproj/stable/gotchas.html#upgrading-to-pyproj-2-from-pyproj-1\n",
            "  infra_df['경도'], infra_df['위도'] = transform(in_proj, out_proj, infra_df['xcoord'].values, infra_df['ycoord'].values)\n",
            "<ipython-input-12-6e11d4e2e3c1>:22: FutureWarning: This function is deprecated. See: https://pyproj4.github.io/pyproj/stable/gotchas.html#upgrading-to-pyproj-2-from-pyproj-1\n",
            "  demand_df['경도'], demand_df['위도'] = transform(in_proj, out_proj, demand_df['xcoord'].values, demand_df['ycoord'].values)\n",
            "<ipython-input-12-6e11d4e2e3c1>:51: SettingWithCopyWarning: \n",
            "A value is trying to be set on a copy of a slice from a DataFrame.\n",
            "Try using .loc[row_indexer,col_indexer] = value instead\n",
            "\n",
            "See the caveats in the documentation: https://pandas.pydata.org/pandas-docs/stable/user_guide/indexing.html#returning-a-view-versus-a-copy\n",
            "  result_top10['순위'] = range(1, 11)\n"
          ]
        }
      ],
      "source": [
        "import pandas as pd\n",
        "from pyproj import Proj, transform\n",
        "from pulp import *\n",
        "from haversine import haversine\n",
        "\n",
        "# Google Drive 연동\n",
        "from google.colab import drive\n",
        "drive.mount('/content/drive')\n",
        "\n",
        "# 데이터 불러오기\n",
        "infra_df = pd.read_csv('/content/drive/MyDrive/mclp/인프라.csv', encoding='utf-8')\n",
        "accessibility_df = pd.read_csv('/content/drive/MyDrive/mclp/접근성.csv', encoding='utf-8')\n",
        "demand_df = pd.read_csv('/content/drive/MyDrive/mclp/수요.csv', encoding='utf-8')\n",
        "\n",
        "# 인프라 데이터의 좌표를 4326으로 변환\n",
        "in_proj = Proj(init='epsg:5179')\n",
        "out_proj = Proj(init='epsg:4326')\n",
        "\n",
        "infra_df['경도'], infra_df['위도'] = transform(in_proj, out_proj, infra_df['xcoord'].values, infra_df['ycoord'].values)\n",
        "\n",
        "# 수요 데이터의 좌표를 4326으로 변환\n",
        "demand_df['경도'], demand_df['위도'] = transform(in_proj, out_proj, demand_df['xcoord'].values, demand_df['ycoord'].values)\n",
        "\n",
        "# MCLP 모델링\n",
        "model = LpProblem(name=\"Maximum_Coverage_Location_Problem\", sense=LpMaximize)\n",
        "\n",
        "# 좌표를 저장할 변수\n",
        "x = LpVariable.dicts(\"location\", infra_df.index, 0, 1, LpBinary)\n",
        "\n",
        "# 목적함수 설정\n",
        "model += lpSum([demand_df['demand'][i] * x[i] for i in infra_df.index])\n",
        "\n",
        "# 수요지수, 접근성지수, 인프라지수에 대한 제약 설정\n",
        "for i in infra_df.index:\n",
        "    model += lpSum([haversine((infra_df['위도'][i], infra_df['경도'][i]),\n",
        "                              (infra_df['위도'][j], infra_df['경도'][j])) * x[j] for j in infra_df.index]) <= 250\n",
        "\n",
        "# 최적화 수행\n",
        "model.solve()\n",
        "\n",
        "# 결과 확인\n",
        "result_locations = [i for i in infra_df.index if x[i].value() == 1]\n",
        "\n",
        "# 결과값을 데이터프레임에 추가하고 수요지수로 정렬하여 순위 매기기\n",
        "result_df = infra_df.loc[result_locations, ['위도', '경도']]\n",
        "\n",
        "# 상위 10곳만 선택\n",
        "result_top10 = result_df.head(10)\n",
        "\n",
        "# 상위 10곳의 순위 정보를 추가하여 CSV 파일로 저장\n",
        "result_top10['순위'] = range(1, 11)\n",
        "result_top10.to_csv('/content/drive/MyDrive/mclp/최적입지_결과_순위.csv', index=False)\n"
      ]
    }
  ]
}