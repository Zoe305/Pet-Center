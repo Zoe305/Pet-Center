{
  "cells": [
    {
      "cell_type": "code",
      "execution_count": null,
      "metadata": {
        "id": "k-eNimSWPf95"
      },
      "outputs": [],
      "source": [
        "import pandas as pd\n",
        "import numpy as np\n",
        "from google.colab import drive\n",
        "\n",
        "def calculate_coverage(selected_facilities, demand_radius, locations):\n",
        "    covered_indices = set()\n",
        "    for facility_index in selected_facilities:\n",
        "        facility_location = locations[facility_index]\n",
        "        within_coverage = np.linalg.norm(locations - facility_location, axis=1) <= demand_radius\n",
        "        covered_indices.update(np.where(within_coverage)[0])\n",
        "    return covered_indices\n",
        "\n",
        "# Google 드라이브 마운트\n",
        "drive.mount('/content/drive')\n",
        "\n",
        "# 파일 경로 설정\n",
        "path_to_files = '/content/drive/My Drive/mclp/'\n",
        "numdata_file = path_to_files + 'numdata.csv'\n",
        "\n",
        "# numdata.csv 파일 로드\n",
        "merged_df = pd.read_csv(numdata_file)\n",
        "\n",
        "# 데이터 프레임에서 위치 정보 추출 (위도, 경도)\n",
        "locations = merged_df[['위도', '경도']].values\n",
        "\n",
        "# MCLP 알고리즘을 위한 데이터 변환\n",
        "data = merged_df[['수요 지수', '인프라 지수', '접근성 지수', '경도']].values\n",
        "\n",
        "# Combine all three criteria into a single weight\n",
        "weights = 0.6 * data[:, 0] + 0.2 * data[:, 1] + 0.2 * data[:, 2]\n",
        "\n",
        "# MCLP 알고리즘 적용\n",
        "num_facilities = 10  # 선택할 시설의 수\n",
        "demand_radius = 0.0063  # Covering radius for demand points\n",
        "\n",
        "selected_facilities = []\n",
        "remaining_indices = set(range(len(data)))\n",
        "facility_scores = []\n",
        "\n",
        "for _ in range(num_facilities):\n",
        "    total_weights = np.sum(weights[list(remaining_indices)])\n",
        "    covered_indices = calculate_coverage(selected_facilities, demand_radius, locations)\n",
        "    uncovered_indices = remaining_indices - covered_indices\n",
        "\n",
        "    if not uncovered_indices:\n",
        "        break\n",
        "\n",
        "    selected_index = max(uncovered_indices, key=lambda i: weights[i])\n",
        "    selected_facilities.append(selected_index)\n",
        "    remaining_indices.remove(selected_index)\n",
        "    facility_scores.append(weights[selected_index])\n",
        "\n",
        "# 선택된 시설의 점수에 따라 정렬\n",
        "sorted_facilities = [x for _, x in sorted(zip(facility_scores, selected_facilities), reverse=True)]\n",
        "\n",
        "# 결과를 데이터프레임으로 변환\n",
        "result_df = merged_df.iloc[sorted_facilities]\n",
        "\n",
        "# 결과를 CSV 파일로 저장\n",
        "result_path = path_to_files + 'selected_facilities.csv'\n",
        "result_df.to_csv(result_path, index=False)\n",
        "\n",
        "# 결과 출력\n",
        "print(\"Selected Facility IDs in order:\", sorted_facilities)\n"
      ]
    }
  ],
  "metadata": {
    "colab": {
      "provenance": []
    },
    "kernelspec": {
      "display_name": "Python 3",
      "name": "python3"
    },
    "language_info": {
      "name": "python"
    }
  },
  "nbformat": 4,
  "nbformat_minor": 0
}
