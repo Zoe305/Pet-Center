{
  "nbformat": 4,
  "nbformat_minor": 0,
  "metadata": {
    "colab": {
      "provenance": []
    },
    "kernelspec": {
      "name": "python3",
      "display_name": "Python 3"
    },
    "language_info": {
      "name": "python"
    }
  },
  "cells": [
    {
      "cell_type": "code",
      "execution_count": null,
      "metadata": {
        "colab": {
          "base_uri": "https://localhost:8080/"
        },
        "id": "OPAffKACNag6",
        "outputId": "0e5a4eb0-f3c2-4e53-f096-165f3f2be6f6"
      },
      "outputs": [
        {
          "output_type": "stream",
          "name": "stdout",
          "text": [
            "Drive already mounted at /content/drive; to attempt to forcibly remount, call drive.mount(\"/content/drive\", force_remount=True).\n"
          ]
        }
      ],
      "source": [
        "import pandas as pd\n",
        "from scipy.spatial import cKDTree\n",
        "from shapely.geometry import Point\n",
        "from sklearn.preprocessing import MinMaxScaler\n",
        "\n",
        "# Google Drive 마운트\n",
        "from google.colab import drive\n",
        "drive.mount('/content/drive')\n",
        "\n",
        "# 격자 및 인프라 데이터 불러오기\n",
        "grid_path = '/content/drive/MyDrive/data/park.csv'\n",
        "infra_path = '/content/drive/MyDrive/data/ani.csv'\n",
        "\n",
        "grid_df = pd.read_csv(grid_path)\n",
        "infra_df = pd.read_csv(infra_path)\n",
        "\n",
        "# 격자 중심점 좌표 생성\n",
        "grid_df['geometry'] = grid_df.apply(lambda row: Point(row['경도'], row['위도']), axis=1)\n",
        "\n",
        "# KDTree를 이용하여 가장 가까운 인프라 지수 및 거리 찾기\n",
        "infra_tree = cKDTree(infra_df[['Longitude', 'Latitude']].values)\n",
        "nearest_infra_distances, nearest_infra_indices = infra_tree.query(grid_df[['경도', '위도']].values)\n",
        "\n",
        "# 거리를 기반으로 인프라 지수 계산 (예시: 거리가 가까울수록 높은 점수)\n",
        "max_distance = nearest_infra_distances.max()\n",
        "grid_df['Nearest_Infra_Index'] = max_distance - nearest_infra_distances\n",
        "\n",
        "# Min-Max 스케일링\n",
        "scaler = MinMaxScaler()\n",
        "grid_df['Scaled_Infra_Index'] = scaler.fit_transform(grid_df[['Nearest_Infra_Index']])\n",
        "\n",
        "# 결과 파일 저장\n",
        "output_csv_path = '/content/drive/MyDrive/data/park_with_infra.csv'\n",
        "grid_df.to_csv(output_csv_path, index=False)\n"
      ]
    }
  ]
}