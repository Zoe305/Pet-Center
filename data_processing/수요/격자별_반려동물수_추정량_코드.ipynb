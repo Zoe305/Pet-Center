{
  "cells": [
    {
      "cell_type": "code",
      "execution_count": 1,
      "metadata": {
        "colab": {
          "base_uri": "https://localhost:8080/",
          "height": 74
        },
        "id": "kHUeHI6_0fRA",
        "outputId": "af503432-fc39-42e4-fe6b-1079688a4277"
      },
      "outputs": [
        {
          "output_type": "display_data",
          "data": {
            "text/plain": [
              "<IPython.core.display.HTML object>"
            ],
            "text/html": [
              "\n",
              "     <input type=\"file\" id=\"files-24c4774f-852f-4273-9766-5b90206026af\" name=\"files[]\" multiple disabled\n",
              "        style=\"border:none\" />\n",
              "     <output id=\"result-24c4774f-852f-4273-9766-5b90206026af\">\n",
              "      Upload widget is only available when the cell has been executed in the\n",
              "      current browser session. Please rerun this cell to enable.\n",
              "      </output>\n",
              "      <script>// Copyright 2017 Google LLC\n",
              "//\n",
              "// Licensed under the Apache License, Version 2.0 (the \"License\");\n",
              "// you may not use this file except in compliance with the License.\n",
              "// You may obtain a copy of the License at\n",
              "//\n",
              "//      http://www.apache.org/licenses/LICENSE-2.0\n",
              "//\n",
              "// Unless required by applicable law or agreed to in writing, software\n",
              "// distributed under the License is distributed on an \"AS IS\" BASIS,\n",
              "// WITHOUT WARRANTIES OR CONDITIONS OF ANY KIND, either express or implied.\n",
              "// See the License for the specific language governing permissions and\n",
              "// limitations under the License.\n",
              "\n",
              "/**\n",
              " * @fileoverview Helpers for google.colab Python module.\n",
              " */\n",
              "(function(scope) {\n",
              "function span(text, styleAttributes = {}) {\n",
              "  const element = document.createElement('span');\n",
              "  element.textContent = text;\n",
              "  for (const key of Object.keys(styleAttributes)) {\n",
              "    element.style[key] = styleAttributes[key];\n",
              "  }\n",
              "  return element;\n",
              "}\n",
              "\n",
              "// Max number of bytes which will be uploaded at a time.\n",
              "const MAX_PAYLOAD_SIZE = 100 * 1024;\n",
              "\n",
              "function _uploadFiles(inputId, outputId) {\n",
              "  const steps = uploadFilesStep(inputId, outputId);\n",
              "  const outputElement = document.getElementById(outputId);\n",
              "  // Cache steps on the outputElement to make it available for the next call\n",
              "  // to uploadFilesContinue from Python.\n",
              "  outputElement.steps = steps;\n",
              "\n",
              "  return _uploadFilesContinue(outputId);\n",
              "}\n",
              "\n",
              "// This is roughly an async generator (not supported in the browser yet),\n",
              "// where there are multiple asynchronous steps and the Python side is going\n",
              "// to poll for completion of each step.\n",
              "// This uses a Promise to block the python side on completion of each step,\n",
              "// then passes the result of the previous step as the input to the next step.\n",
              "function _uploadFilesContinue(outputId) {\n",
              "  const outputElement = document.getElementById(outputId);\n",
              "  const steps = outputElement.steps;\n",
              "\n",
              "  const next = steps.next(outputElement.lastPromiseValue);\n",
              "  return Promise.resolve(next.value.promise).then((value) => {\n",
              "    // Cache the last promise value to make it available to the next\n",
              "    // step of the generator.\n",
              "    outputElement.lastPromiseValue = value;\n",
              "    return next.value.response;\n",
              "  });\n",
              "}\n",
              "\n",
              "/**\n",
              " * Generator function which is called between each async step of the upload\n",
              " * process.\n",
              " * @param {string} inputId Element ID of the input file picker element.\n",
              " * @param {string} outputId Element ID of the output display.\n",
              " * @return {!Iterable<!Object>} Iterable of next steps.\n",
              " */\n",
              "function* uploadFilesStep(inputId, outputId) {\n",
              "  const inputElement = document.getElementById(inputId);\n",
              "  inputElement.disabled = false;\n",
              "\n",
              "  const outputElement = document.getElementById(outputId);\n",
              "  outputElement.innerHTML = '';\n",
              "\n",
              "  const pickedPromise = new Promise((resolve) => {\n",
              "    inputElement.addEventListener('change', (e) => {\n",
              "      resolve(e.target.files);\n",
              "    });\n",
              "  });\n",
              "\n",
              "  const cancel = document.createElement('button');\n",
              "  inputElement.parentElement.appendChild(cancel);\n",
              "  cancel.textContent = 'Cancel upload';\n",
              "  const cancelPromise = new Promise((resolve) => {\n",
              "    cancel.onclick = () => {\n",
              "      resolve(null);\n",
              "    };\n",
              "  });\n",
              "\n",
              "  // Wait for the user to pick the files.\n",
              "  const files = yield {\n",
              "    promise: Promise.race([pickedPromise, cancelPromise]),\n",
              "    response: {\n",
              "      action: 'starting',\n",
              "    }\n",
              "  };\n",
              "\n",
              "  cancel.remove();\n",
              "\n",
              "  // Disable the input element since further picks are not allowed.\n",
              "  inputElement.disabled = true;\n",
              "\n",
              "  if (!files) {\n",
              "    return {\n",
              "      response: {\n",
              "        action: 'complete',\n",
              "      }\n",
              "    };\n",
              "  }\n",
              "\n",
              "  for (const file of files) {\n",
              "    const li = document.createElement('li');\n",
              "    li.append(span(file.name, {fontWeight: 'bold'}));\n",
              "    li.append(span(\n",
              "        `(${file.type || 'n/a'}) - ${file.size} bytes, ` +\n",
              "        `last modified: ${\n",
              "            file.lastModifiedDate ? file.lastModifiedDate.toLocaleDateString() :\n",
              "                                    'n/a'} - `));\n",
              "    const percent = span('0% done');\n",
              "    li.appendChild(percent);\n",
              "\n",
              "    outputElement.appendChild(li);\n",
              "\n",
              "    const fileDataPromise = new Promise((resolve) => {\n",
              "      const reader = new FileReader();\n",
              "      reader.onload = (e) => {\n",
              "        resolve(e.target.result);\n",
              "      };\n",
              "      reader.readAsArrayBuffer(file);\n",
              "    });\n",
              "    // Wait for the data to be ready.\n",
              "    let fileData = yield {\n",
              "      promise: fileDataPromise,\n",
              "      response: {\n",
              "        action: 'continue',\n",
              "      }\n",
              "    };\n",
              "\n",
              "    // Use a chunked sending to avoid message size limits. See b/62115660.\n",
              "    let position = 0;\n",
              "    do {\n",
              "      const length = Math.min(fileData.byteLength - position, MAX_PAYLOAD_SIZE);\n",
              "      const chunk = new Uint8Array(fileData, position, length);\n",
              "      position += length;\n",
              "\n",
              "      const base64 = btoa(String.fromCharCode.apply(null, chunk));\n",
              "      yield {\n",
              "        response: {\n",
              "          action: 'append',\n",
              "          file: file.name,\n",
              "          data: base64,\n",
              "        },\n",
              "      };\n",
              "\n",
              "      let percentDone = fileData.byteLength === 0 ?\n",
              "          100 :\n",
              "          Math.round((position / fileData.byteLength) * 100);\n",
              "      percent.textContent = `${percentDone}% done`;\n",
              "\n",
              "    } while (position < fileData.byteLength);\n",
              "  }\n",
              "\n",
              "  // All done.\n",
              "  yield {\n",
              "    response: {\n",
              "      action: 'complete',\n",
              "    }\n",
              "  };\n",
              "}\n",
              "\n",
              "scope.google = scope.google || {};\n",
              "scope.google.colab = scope.google.colab || {};\n",
              "scope.google.colab._files = {\n",
              "  _uploadFiles,\n",
              "  _uploadFilesContinue,\n",
              "};\n",
              "})(self);\n",
              "</script> "
            ]
          },
          "metadata": {}
        },
        {
          "output_type": "stream",
          "name": "stdout",
          "text": [
            "Saving 격자:동별 인구수.csv to 격자:동별 인구수.csv\n"
          ]
        }
      ],
      "source": [
        "from google.colab import files\n",
        "uploaded = files.upload()"
      ]
    },
    {
      "cell_type": "markdown",
      "source": [
        "격자/동별 인구수.csv ->\n",
        "1. qgis를 활용하여 격자별 인구 통계의 각 폴리곤 내의 중심점을 구함\n",
        "2. 중심점의 위도, 경도 값을 추가\n",
        "3. 양천구 행정동 경계 파일을 병합하여 동 정보 추가"
      ],
      "metadata": {
        "id": "Wip9CcoEDaxy"
      }
    },
    {
      "cell_type": "code",
      "execution_count": 14,
      "metadata": {
        "id": "XSFbPj-Zutxm",
        "colab": {
          "base_uri": "https://localhost:8080/"
        },
        "outputId": "bd57b683-5972-42e8-f6af-09b2cdb9c6ff"
      },
      "outputs": [
        {
          "output_type": "stream",
          "name": "stdout",
          "text": [
            "       val EMD_KOR_NM_max  xcoord   ycoord\n",
            "0      NaN            NaN  940125  1945875\n",
            "1      NaN            NaN  940125  1946375\n",
            "2      NaN            NaN  940125  1946625\n",
            "3      NaN            NaN  940125  1948375\n",
            "4    164.0            신월동  940125  1948625\n",
            "..     ...            ...     ...      ...\n",
            "341    NaN             목동  945875  1948875\n",
            "342    NaN            NaN  945875  1949125\n",
            "343    NaN            NaN  946125  1948125\n",
            "344    NaN            NaN  946125  1948375\n",
            "345    NaN            NaN  946125  1948625\n",
            "\n",
            "[346 rows x 4 columns]\n"
          ]
        }
      ],
      "source": [
        "import pandas as pd\n",
        "\n",
        "# 파일 이름을 적절하게 수정\n",
        "file_name = '/content/격자:동별 인구수.csv'\n",
        "\n",
        "# CSV 파일을 Pandas 데이터프레임으로 읽기\n",
        "df = pd.read_csv(file_name)\n",
        "\n",
        "print(df)"
      ]
    },
    {
      "cell_type": "code",
      "source": [
        "print(df)"
      ],
      "metadata": {
        "colab": {
          "base_uri": "https://localhost:8080/"
        },
        "id": "RXNnQvDHFz5t",
        "outputId": "7dc1a43a-76a5-4402-9164-cafee2bc3355"
      },
      "execution_count": 55,
      "outputs": [
        {
          "output_type": "stream",
          "name": "stdout",
          "text": [
            "     xcoord   ycoord  법정동  격자별 인구수  동별 반려동물수  동별 인구수      반려동물수\n",
            "0    940125  1945875  NaN        0         0       0   0.000000\n",
            "1    940125  1946375  NaN        0         0       0   0.000000\n",
            "2    940125  1946625  NaN        0         0       0   0.000000\n",
            "3    940125  1948375  NaN        0         0       0   0.000000\n",
            "4    940125  1948625  신월동      164      7375  116015  10.425376\n",
            "..      ...      ...  ...      ...       ...     ...        ...\n",
            "341  945875  1948875   목동        0      8072  144260   0.000000\n",
            "342  945875  1949125  NaN        0         0       0   0.000000\n",
            "343  946125  1948125  NaN        0         0       0   0.000000\n",
            "344  946125  1948375  NaN        0         0       0   0.000000\n",
            "345  946125  1948625  NaN        0         0       0   0.000000\n",
            "\n",
            "[346 rows x 7 columns]\n"
          ]
        }
      ]
    },
    {
      "cell_type": "code",
      "source": [
        "df['법정동'] = df.iloc[:, 1]"
      ],
      "metadata": {
        "id": "qKIPHm2NFyVF"
      },
      "execution_count": 16,
      "outputs": []
    },
    {
      "cell_type": "code",
      "source": [
        "df['인구수'] = df.iloc[:, 0]"
      ],
      "metadata": {
        "id": "xr9LO-GgGB9N"
      },
      "execution_count": 17,
      "outputs": []
    },
    {
      "cell_type": "code",
      "source": [
        "df = df.drop(df.columns[[0, 1]], axis=1)"
      ],
      "metadata": {
        "id": "eQE7-QbSGHt8"
      },
      "execution_count": 18,
      "outputs": []
    },
    {
      "cell_type": "code",
      "source": [
        "# '인구수' 열의 값 정수로 변환 및 NaN을 0으로 대체\n",
        "df['인구수'].fillna(0, inplace=True)\n",
        "df['인구수'] = df['인구수'].astype(int)"
      ],
      "metadata": {
        "id": "9_0TjTN4HBD3"
      },
      "execution_count": 22,
      "outputs": []
    },
    {
      "cell_type": "code",
      "execution_count": 25,
      "metadata": {
        "colab": {
          "base_uri": "https://localhost:8080/"
        },
        "id": "F3bC8gyQv1YP",
        "outputId": "662245d4-aea5-4d41-ba4c-03cd29b38a71"
      },
      "outputs": [
        {
          "output_type": "stream",
          "name": "stdout",
          "text": [
            "430780\n"
          ]
        }
      ],
      "source": [
        "total_sum = df['인구수'].sum()\n",
        "print(total_sum)"
      ]
    },
    {
      "cell_type": "code",
      "execution_count": 30,
      "metadata": {
        "id": "r3C1dDkdx7NN"
      },
      "outputs": [],
      "source": [
        "# petNum, petSum 열을 추가하고 기본값으로 0 할당\n",
        "df['petNum'] = 0\n",
        "df['petSum'] = 0"
      ]
    },
    {
      "cell_type": "code",
      "execution_count": 33,
      "metadata": {
        "id": "7s6L0Hr0yxmT"
      },
      "outputs": [],
      "source": [
        "df.loc[df['법정동'] == '신월동', 'petSum'] = 7375\n",
        "df.loc[df['법정동'] == '목동', 'petSum'] = 8072\n",
        "df.loc[df['법정동'] == '신정동', 'petSum'] = 9116"
      ]
    },
    {
      "cell_type": "code",
      "execution_count": 34,
      "metadata": {
        "id": "IThROJ6k0UX9"
      },
      "outputs": [],
      "source": [
        "df['peopleSum'] = 0"
      ]
    },
    {
      "cell_type": "code",
      "execution_count": 39,
      "metadata": {
        "id": "YYvKSLaaz7rJ"
      },
      "outputs": [],
      "source": [
        "temp_sum = df[df['법정동'] == '목동']['인구수'].sum()\n",
        "df.loc[df['법정동'] == '목동', 'peopleSum'] = temp_sum"
      ]
    },
    {
      "cell_type": "code",
      "execution_count": 41,
      "metadata": {
        "id": "uY5nh9FZz8PA"
      },
      "outputs": [],
      "source": [
        "temp_sum = df[df['법정동'] == '신정동']['인구수'].sum()\n",
        "df.loc[df['법정동'] == '신정동', 'peopleSum'] = temp_sum"
      ]
    },
    {
      "cell_type": "code",
      "execution_count": 42,
      "metadata": {
        "id": "Ly1e-D-hz-8P"
      },
      "outputs": [],
      "source": [
        "temp_sum = df[df['법정동'] == '신월동']['인구수'].sum()\n",
        "df.loc[df['법정동'] == '신월동', 'peopleSum'] = temp_sum"
      ]
    },
    {
      "cell_type": "code",
      "execution_count": 43,
      "metadata": {
        "id": "XKMA7zmy3_q8"
      },
      "outputs": [],
      "source": [
        "df['petNum'] = (df['petSum'] * df['인구수']) / df['peopleSum']"
      ]
    },
    {
      "cell_type": "code",
      "execution_count": 47,
      "metadata": {
        "colab": {
          "base_uri": "https://localhost:8080/"
        },
        "id": "d4gSeFn-zZe0",
        "outputId": "1911fce6-b07c-419b-ba0e-573ccbf0a33b"
      },
      "outputs": [
        {
          "output_type": "stream",
          "name": "stdout",
          "text": [
            "     xcoord   ycoord  법정동   인구수      petNum  petSum  peopleSum\n",
            "11   940375  1946375  신정동   642   35.534135    9116     164700\n",
            "26   940625  1945875  신정동   524   29.002939    9116     164700\n",
            "27   940625  1946125  신정동   544   30.109921    9116     164700\n",
            "28   940625  1946375  신정동   849   46.991403    9116     164700\n",
            "47   940875  1945875  신정동  1456   80.588318    9116     164700\n",
            "..      ...      ...  ...   ...         ...     ...        ...\n",
            "284  944875  1946375  신정동  2997  165.881311    9116     164700\n",
            "285  944875  1946625  신정동  3126  173.021348    9116     164700\n",
            "286  944875  1946875  신정동  3317  183.593030    9116     164700\n",
            "287  944875  1947125  신정동  2902  160.623145    9116     164700\n",
            "303  945125  1947125  신정동  1159   64.149630    9116     164700\n",
            "\n",
            "[118 rows x 7 columns]\n"
          ]
        }
      ],
      "source": [
        "# 결과 잘 나왔는지 확인\n",
        "result = df[df['법정동'] == '신정동']\n",
        "print(result)"
      ]
    },
    {
      "cell_type": "code",
      "execution_count": 48,
      "metadata": {
        "colab": {
          "base_uri": "https://localhost:8080/"
        },
        "id": "ga2KnwK-0nt7",
        "outputId": "b4c86933-c0b1-48ca-c32c-ed92aa596a89"
      },
      "outputs": [
        {
          "output_type": "stream",
          "name": "stdout",
          "text": [
            "24563.0\n"
          ]
        }
      ],
      "source": [
        "petnumsum = df['petNum'].sum()\n",
        "print(petnumsum)"
      ]
    },
    {
      "cell_type": "code",
      "source": [
        "df['petNum'].fillna(0, inplace=True)"
      ],
      "metadata": {
        "id": "Owz4ZakZJeN_"
      },
      "execution_count": 49,
      "outputs": []
    },
    {
      "cell_type": "code",
      "source": [
        "df['반려동물수'] = df.iloc[:, 4]\n",
        "df = df.drop(df.columns[[4]], axis=1)"
      ],
      "metadata": {
        "id": "A0aRCRWCJl42"
      },
      "execution_count": 51,
      "outputs": []
    },
    {
      "cell_type": "code",
      "source": [
        "df = df.rename(columns={'인구수': '격자별 인구수', 'petSum': '동별 반려동물수', 'peopleSum': '동별 인구수'})"
      ],
      "metadata": {
        "id": "PcMV-5kaKNYW"
      },
      "execution_count": 53,
      "outputs": []
    },
    {
      "cell_type": "code",
      "execution_count": 54,
      "metadata": {
        "id": "Qp7j1vGZ4NcM"
      },
      "outputs": [],
      "source": [
        "df.to_csv('격자별_반려동물수_추정량.csv', index=False)"
      ]
    }
  ],
  "metadata": {
    "colab": {
      "provenance": []
    },
    "kernelspec": {
      "display_name": "Python 3",
      "name": "python3"
    },
    "language_info": {
      "name": "python"
    }
  },
  "nbformat": 4,
  "nbformat_minor": 0
}