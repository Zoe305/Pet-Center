{
  "nbformat": 4,
  "nbformat_minor": 0,
  "metadata": {
    "colab": {
      "provenance": []
    },
    "kernelspec": {
      "name": "python3",
      "display_name": "Python 3"
    },
    "language_info": {
      "name": "python"
    }
  },
  "cells": [
    {
      "cell_type": "code",
      "execution_count": null,
      "metadata": {
        "colab": {
          "base_uri": "https://localhost:8080/",
          "height": 74
        },
        "id": "MdYTLq5gij8u",
        "outputId": "4b39c65e-f86c-4ccf-94c4-af30f2fa16d0"
      },
      "outputs": [
        {
          "output_type": "display_data",
          "data": {
            "text/plain": [
              "<IPython.core.display.HTML object>"
            ],
            "text/html": [
              "\n",
              "     <input type=\"file\" id=\"files-67256aed-a635-4c8e-8e44-63d67a9e4b1a\" name=\"files[]\" multiple disabled\n",
              "        style=\"border:none\" />\n",
              "     <output id=\"result-67256aed-a635-4c8e-8e44-63d67a9e4b1a\">\n",
              "      Upload widget is only available when the cell has been executed in the\n",
              "      current browser session. Please rerun this cell to enable.\n",
              "      </output>\n",
              "      <script>// Copyright 2017 Google LLC\n",
              "//\n",
              "// Licensed under the Apache License, Version 2.0 (the \"License\");\n",
              "// you may not use this file except in compliance with the License.\n",
              "// You may obtain a copy of the License at\n",
              "//\n",
              "//      http://www.apache.org/licenses/LICENSE-2.0\n",
              "//\n",
              "// Unless required by applicable law or agreed to in writing, software\n",
              "// distributed under the License is distributed on an \"AS IS\" BASIS,\n",
              "// WITHOUT WARRANTIES OR CONDITIONS OF ANY KIND, either express or implied.\n",
              "// See the License for the specific language governing permissions and\n",
              "// limitations under the License.\n",
              "\n",
              "/**\n",
              " * @fileoverview Helpers for google.colab Python module.\n",
              " */\n",
              "(function(scope) {\n",
              "function span(text, styleAttributes = {}) {\n",
              "  const element = document.createElement('span');\n",
              "  element.textContent = text;\n",
              "  for (const key of Object.keys(styleAttributes)) {\n",
              "    element.style[key] = styleAttributes[key];\n",
              "  }\n",
              "  return element;\n",
              "}\n",
              "\n",
              "// Max number of bytes which will be uploaded at a time.\n",
              "const MAX_PAYLOAD_SIZE = 100 * 1024;\n",
              "\n",
              "function _uploadFiles(inputId, outputId) {\n",
              "  const steps = uploadFilesStep(inputId, outputId);\n",
              "  const outputElement = document.getElementById(outputId);\n",
              "  // Cache steps on the outputElement to make it available for the next call\n",
              "  // to uploadFilesContinue from Python.\n",
              "  outputElement.steps = steps;\n",
              "\n",
              "  return _uploadFilesContinue(outputId);\n",
              "}\n",
              "\n",
              "// This is roughly an async generator (not supported in the browser yet),\n",
              "// where there are multiple asynchronous steps and the Python side is going\n",
              "// to poll for completion of each step.\n",
              "// This uses a Promise to block the python side on completion of each step,\n",
              "// then passes the result of the previous step as the input to the next step.\n",
              "function _uploadFilesContinue(outputId) {\n",
              "  const outputElement = document.getElementById(outputId);\n",
              "  const steps = outputElement.steps;\n",
              "\n",
              "  const next = steps.next(outputElement.lastPromiseValue);\n",
              "  return Promise.resolve(next.value.promise).then((value) => {\n",
              "    // Cache the last promise value to make it available to the next\n",
              "    // step of the generator.\n",
              "    outputElement.lastPromiseValue = value;\n",
              "    return next.value.response;\n",
              "  });\n",
              "}\n",
              "\n",
              "/**\n",
              " * Generator function which is called between each async step of the upload\n",
              " * process.\n",
              " * @param {string} inputId Element ID of the input file picker element.\n",
              " * @param {string} outputId Element ID of the output display.\n",
              " * @return {!Iterable<!Object>} Iterable of next steps.\n",
              " */\n",
              "function* uploadFilesStep(inputId, outputId) {\n",
              "  const inputElement = document.getElementById(inputId);\n",
              "  inputElement.disabled = false;\n",
              "\n",
              "  const outputElement = document.getElementById(outputId);\n",
              "  outputElement.innerHTML = '';\n",
              "\n",
              "  const pickedPromise = new Promise((resolve) => {\n",
              "    inputElement.addEventListener('change', (e) => {\n",
              "      resolve(e.target.files);\n",
              "    });\n",
              "  });\n",
              "\n",
              "  const cancel = document.createElement('button');\n",
              "  inputElement.parentElement.appendChild(cancel);\n",
              "  cancel.textContent = 'Cancel upload';\n",
              "  const cancelPromise = new Promise((resolve) => {\n",
              "    cancel.onclick = () => {\n",
              "      resolve(null);\n",
              "    };\n",
              "  });\n",
              "\n",
              "  // Wait for the user to pick the files.\n",
              "  const files = yield {\n",
              "    promise: Promise.race([pickedPromise, cancelPromise]),\n",
              "    response: {\n",
              "      action: 'starting',\n",
              "    }\n",
              "  };\n",
              "\n",
              "  cancel.remove();\n",
              "\n",
              "  // Disable the input element since further picks are not allowed.\n",
              "  inputElement.disabled = true;\n",
              "\n",
              "  if (!files) {\n",
              "    return {\n",
              "      response: {\n",
              "        action: 'complete',\n",
              "      }\n",
              "    };\n",
              "  }\n",
              "\n",
              "  for (const file of files) {\n",
              "    const li = document.createElement('li');\n",
              "    li.append(span(file.name, {fontWeight: 'bold'}));\n",
              "    li.append(span(\n",
              "        `(${file.type || 'n/a'}) - ${file.size} bytes, ` +\n",
              "        `last modified: ${\n",
              "            file.lastModifiedDate ? file.lastModifiedDate.toLocaleDateString() :\n",
              "                                    'n/a'} - `));\n",
              "    const percent = span('0% done');\n",
              "    li.appendChild(percent);\n",
              "\n",
              "    outputElement.appendChild(li);\n",
              "\n",
              "    const fileDataPromise = new Promise((resolve) => {\n",
              "      const reader = new FileReader();\n",
              "      reader.onload = (e) => {\n",
              "        resolve(e.target.result);\n",
              "      };\n",
              "      reader.readAsArrayBuffer(file);\n",
              "    });\n",
              "    // Wait for the data to be ready.\n",
              "    let fileData = yield {\n",
              "      promise: fileDataPromise,\n",
              "      response: {\n",
              "        action: 'continue',\n",
              "      }\n",
              "    };\n",
              "\n",
              "    // Use a chunked sending to avoid message size limits. See b/62115660.\n",
              "    let position = 0;\n",
              "    do {\n",
              "      const length = Math.min(fileData.byteLength - position, MAX_PAYLOAD_SIZE);\n",
              "      const chunk = new Uint8Array(fileData, position, length);\n",
              "      position += length;\n",
              "\n",
              "      const base64 = btoa(String.fromCharCode.apply(null, chunk));\n",
              "      yield {\n",
              "        response: {\n",
              "          action: 'append',\n",
              "          file: file.name,\n",
              "          data: base64,\n",
              "        },\n",
              "      };\n",
              "\n",
              "      let percentDone = fileData.byteLength === 0 ?\n",
              "          100 :\n",
              "          Math.round((position / fileData.byteLength) * 100);\n",
              "      percent.textContent = `${percentDone}% done`;\n",
              "\n",
              "    } while (position < fileData.byteLength);\n",
              "  }\n",
              "\n",
              "  // All done.\n",
              "  yield {\n",
              "    response: {\n",
              "      action: 'complete',\n",
              "    }\n",
              "  };\n",
              "}\n",
              "\n",
              "scope.google = scope.google || {};\n",
              "scope.google.colab = scope.google.colab || {};\n",
              "scope.google.colab._files = {\n",
              "  _uploadFiles,\n",
              "  _uploadFilesContinue,\n",
              "};\n",
              "})(self);\n",
              "</script> "
            ]
          },
          "metadata": {}
        },
        {
          "output_type": "stream",
          "name": "stdout",
          "text": [
            "Saving 격자별_반려동물수_추정량.csv to 격자별_반려동물수_추정량.csv\n"
          ]
        }
      ],
      "source": [
        "from google.colab import files\n",
        "uploaded = files.upload()"
      ]
    },
    {
      "cell_type": "code",
      "source": [
        "import pandas as pd\n",
        "\n",
        "# 파일 이름을 적절하게 수정\n",
        "file_name = '/content/격자별_반려동물수_추정량.csv'\n",
        "\n",
        "# CSV 파일을 Pandas 데이터프레임으로 읽기\n",
        "df = pd.read_csv(file_name)"
      ],
      "metadata": {
        "id": "peDiPjgMim7d"
      },
      "execution_count": 2,
      "outputs": []
    },
    {
      "cell_type": "code",
      "source": [
        "file_name = '/content/동별_연령및주택_가중치.csv'\n",
        "\n",
        "# CSV 파일을 Pandas 데이터프레임으로 읽기\n",
        "df2 = pd.read_csv(file_name)"
      ],
      "metadata": {
        "id": "BESODtqhew23"
      },
      "execution_count": 3,
      "outputs": []
    },
    {
      "cell_type": "code",
      "source": [
        "df['index'] = df['반려동물수']"
      ],
      "metadata": {
        "id": "eiK7t-HVmI2O"
      },
      "execution_count": 4,
      "outputs": []
    },
    {
      "cell_type": "code",
      "source": [
        "print(df2)"
      ],
      "metadata": {
        "id": "T5EDnLV5m1Gs",
        "colab": {
          "base_uri": "https://localhost:8080/"
        },
        "outputId": "a8a8b47d-1512-428a-a199-f703fc7ba570"
      },
      "execution_count": 6,
      "outputs": [
        {
          "output_type": "stream",
          "name": "stdout",
          "text": [
            "   법정동       20대 이하          30대          40대          50대       60대 이상  \\\n",
            "0   목동  8521.195652  3302.173913  5802.739130  5620.884058  5844.099638   \n",
            "1  신정동  9599.094203  3580.978261  6500.681159  6815.956522  7989.527174   \n",
            "2  신월동  5542.753623  2929.891304  3950.036232  4477.927536  6838.889493   \n",
            "\n",
            "         단독주택           아파트        다세대주택       연립/기타            합계  \n",
            "0  440.248227   8356.223404  3528.859338  266.632388  41683.055748  \n",
            "1  575.088652  13295.265957  2002.990544  215.834515  50575.416988  \n",
            "2  759.024823   5713.687943  4253.386525  623.797872  35089.395352  \n"
          ]
        }
      ]
    },
    {
      "cell_type": "code",
      "source": [
        "df.loc[df['법정동'] == '목동', 'index'] *= df2['합계'].iloc[0]"
      ],
      "metadata": {
        "id": "VQPypujQfHVq"
      },
      "execution_count": 8,
      "outputs": []
    },
    {
      "cell_type": "code",
      "source": [
        "df.loc[df['법정동'] == '신정동', 'index'] *= df2['합계'].iloc[1]\n",
        "df.loc[df['법정동'] == '신월동', 'index'] *= df2['합계'].iloc[2]"
      ],
      "metadata": {
        "id": "2YPhPpwwhdAM"
      },
      "execution_count": 12,
      "outputs": []
    },
    {
      "cell_type": "code",
      "source": [
        "print(df.loc[df['법정동'] == '신월동'])"
      ],
      "metadata": {
        "colab": {
          "base_uri": "https://localhost:8080/"
        },
        "id": "tRYjOSbRkwkj",
        "outputId": "bf2ef212-77b5-4ddb-b62d-b1c2effb0337"
      },
      "execution_count": 14,
      "outputs": [
        {
          "output_type": "stream",
          "name": "stdout",
          "text": [
            "     xcoord   ycoord  법정동  격자별 인구수  동별 반려동물수  동별 인구수       반려동물수         index\n",
            "4    940125  1948625  신월동      164      7375  116015   10.425376  3.658201e+05\n",
            "6    940125  1949125  신월동        0      7375  116015    0.000000  0.000000e+00\n",
            "10   940375  1946125  신월동        0      7375  116015    0.000000  0.000000e+00\n",
            "12   940375  1946625  신월동        0      7375  116015    0.000000  0.000000e+00\n",
            "13   940375  1946875  신월동        0      7375  116015    0.000000  0.000000e+00\n",
            "..      ...      ...  ...      ...       ...     ...         ...           ...\n",
            "137  942375  1946625  신월동     2760      7375  116015  175.451450  6.156485e+06\n",
            "138  942375  1946875  신월동     3273      7375  116015  208.062535  7.300789e+06\n",
            "140  942375  1947375  신월동     1900      7375  116015  120.781795  4.238160e+06\n",
            "141  942375  1947625  신월동     2527      7375  116015  160.639788  5.636753e+06\n",
            "149  942625  1947375  신월동     1277      7375  116015   81.178080  2.848490e+06\n",
            "\n",
            "[77 rows x 8 columns]\n"
          ]
        }
      ]
    },
    {
      "cell_type": "code",
      "source": [
        "xMax = df['index'].max()\n",
        "xMin = df['index'].min()\n",
        "print(xMax)\n",
        "print(xMin)"
      ],
      "metadata": {
        "colab": {
          "base_uri": "https://localhost:8080/"
        },
        "id": "NdkN9oYZhx2S",
        "outputId": "dc4d9b2c-1f0f-4e78-8461-42ba3144d647"
      },
      "execution_count": 15,
      "outputs": [
        {
          "output_type": "stream",
          "name": "stdout",
          "text": [
            "11078689.335231444\n",
            "0.0\n"
          ]
        }
      ]
    },
    {
      "cell_type": "code",
      "source": [
        "# minmax 정규화\n",
        "df['수요 지수'] = (df['index'] - xMin) / (xMax - xMin)"
      ],
      "metadata": {
        "id": "5ViGQq3sk6HU"
      },
      "execution_count": 16,
      "outputs": []
    },
    {
      "cell_type": "code",
      "source": [
        "xMax = df['수요 지수'].max()\n",
        "xMin = df['수요 지수'].min()\n",
        "print(xMax)\n",
        "print(xMin)"
      ],
      "metadata": {
        "colab": {
          "base_uri": "https://localhost:8080/"
        },
        "id": "9pCcAasblACX",
        "outputId": "d68a42ad-d5f1-42fd-93e2-dcf99bd4337b"
      },
      "execution_count": 19,
      "outputs": [
        {
          "output_type": "stream",
          "name": "stdout",
          "text": [
            "1.0\n",
            "0.0\n"
          ]
        }
      ]
    },
    {
      "cell_type": "code",
      "source": [
        "import pandas as pd\n",
        "from pyproj import Transformer\n",
        "transformer = Transformer.from_crs(\"EPSG:5179\", \"EPSG:4326\")\n",
        "df['위도'], df['경도'] = transformer.transform(df['ycoord'].values, df['xcoord'].values)"
      ],
      "metadata": {
        "id": "GlgzMnYYmE4H"
      },
      "execution_count": 22,
      "outputs": []
    },
    {
      "cell_type": "code",
      "source": [
        "# '수요지수' 열을 복사하여 새로운 열 추가\n",
        "df['수요 지수 복사'] = df['수요 지수'].copy()\n",
        "\n",
        "# 기존 '수요지수' 열 삭제\n",
        "df = df.drop('수요 지수', axis=1)\n",
        "\n",
        "df = df.rename(columns={'수요 지수 복사': '수요 지수'})"
      ],
      "metadata": {
        "id": "5-3XV4kBmPvl"
      },
      "execution_count": 24,
      "outputs": []
    },
    {
      "cell_type": "code",
      "source": [
        "df = df[['위도', '경도', '수요 지수']]"
      ],
      "metadata": {
        "id": "ImVRZOX9m5x2"
      },
      "execution_count": 26,
      "outputs": []
    },
    {
      "cell_type": "code",
      "source": [
        "print(df)"
      ],
      "metadata": {
        "colab": {
          "base_uri": "https://localhost:8080/"
        },
        "id": "tnpBe8_DlY10",
        "outputId": "b5d89703-dc08-4b1e-ed0c-1ec4f03f7020"
      },
      "execution_count": 27,
      "outputs": [
        {
          "output_type": "stream",
          "name": "stdout",
          "text": [
            "            위도          경도    수요 지수\n",
            "0    37.510214  126.822517  0.00000\n",
            "1    37.514720  126.822476  0.00000\n",
            "2    37.516973  126.822456  0.00000\n",
            "3    37.532746  126.822313  0.00000\n",
            "4    37.534999  126.822293  0.03302\n",
            "..         ...         ...      ...\n",
            "341  37.537608  126.887353  0.00000\n",
            "342  37.539861  126.887335  0.00000\n",
            "343  37.530863  126.890238  0.00000\n",
            "344  37.533116  126.890219  0.00000\n",
            "345  37.535370  126.890201  0.00000\n",
            "\n",
            "[346 rows x 3 columns]\n"
          ]
        }
      ]
    },
    {
      "cell_type": "code",
      "source": [
        "df.to_csv('수요_지수.csv', index=False)"
      ],
      "metadata": {
        "id": "Y1cPLzjklbKh"
      },
      "execution_count": 28,
      "outputs": []
    }
  ]
}
