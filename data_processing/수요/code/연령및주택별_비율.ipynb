{
  "nbformat": 4,
  "nbformat_minor": 0,
  "metadata": {
    "colab": {
      "provenance": []
    },
    "kernelspec": {
      "name": "python3",
      "display_name": "Python 3"
    },
    "language_info": {
      "name": "python"
    }
  },
  "cells": [
    {
      "cell_type": "code",
      "execution_count": 1,
      "metadata": {
        "colab": {
          "base_uri": "https://localhost:8080/",
          "height": 74
        },
        "id": "zKJkT0BbS_az",
        "outputId": "37a56e12-41cc-4de4-8c68-34ffcf974208"
      },
      "outputs": [
        {
          "output_type": "display_data",
          "data": {
            "text/plain": [
              "<IPython.core.display.HTML object>"
            ],
            "text/html": [
              "\n",
              "     <input type=\"file\" id=\"files-7a579319-40b6-48e7-86ab-5b1da5785220\" name=\"files[]\" multiple disabled\n",
              "        style=\"border:none\" />\n",
              "     <output id=\"result-7a579319-40b6-48e7-86ab-5b1da5785220\">\n",
              "      Upload widget is only available when the cell has been executed in the\n",
              "      current browser session. Please rerun this cell to enable.\n",
              "      </output>\n",
              "      <script>// Copyright 2017 Google LLC\n",
              "//\n",
              "// Licensed under the Apache License, Version 2.0 (the \"License\");\n",
              "// you may not use this file except in compliance with the License.\n",
              "// You may obtain a copy of the License at\n",
              "//\n",
              "//      http://www.apache.org/licenses/LICENSE-2.0\n",
              "//\n",
              "// Unless required by applicable law or agreed to in writing, software\n",
              "// distributed under the License is distributed on an \"AS IS\" BASIS,\n",
              "// WITHOUT WARRANTIES OR CONDITIONS OF ANY KIND, either express or implied.\n",
              "// See the License for the specific language governing permissions and\n",
              "// limitations under the License.\n",
              "\n",
              "/**\n",
              " * @fileoverview Helpers for google.colab Python module.\n",
              " */\n",
              "(function(scope) {\n",
              "function span(text, styleAttributes = {}) {\n",
              "  const element = document.createElement('span');\n",
              "  element.textContent = text;\n",
              "  for (const key of Object.keys(styleAttributes)) {\n",
              "    element.style[key] = styleAttributes[key];\n",
              "  }\n",
              "  return element;\n",
              "}\n",
              "\n",
              "// Max number of bytes which will be uploaded at a time.\n",
              "const MAX_PAYLOAD_SIZE = 100 * 1024;\n",
              "\n",
              "function _uploadFiles(inputId, outputId) {\n",
              "  const steps = uploadFilesStep(inputId, outputId);\n",
              "  const outputElement = document.getElementById(outputId);\n",
              "  // Cache steps on the outputElement to make it available for the next call\n",
              "  // to uploadFilesContinue from Python.\n",
              "  outputElement.steps = steps;\n",
              "\n",
              "  return _uploadFilesContinue(outputId);\n",
              "}\n",
              "\n",
              "// This is roughly an async generator (not supported in the browser yet),\n",
              "// where there are multiple asynchronous steps and the Python side is going\n",
              "// to poll for completion of each step.\n",
              "// This uses a Promise to block the python side on completion of each step,\n",
              "// then passes the result of the previous step as the input to the next step.\n",
              "function _uploadFilesContinue(outputId) {\n",
              "  const outputElement = document.getElementById(outputId);\n",
              "  const steps = outputElement.steps;\n",
              "\n",
              "  const next = steps.next(outputElement.lastPromiseValue);\n",
              "  return Promise.resolve(next.value.promise).then((value) => {\n",
              "    // Cache the last promise value to make it available to the next\n",
              "    // step of the generator.\n",
              "    outputElement.lastPromiseValue = value;\n",
              "    return next.value.response;\n",
              "  });\n",
              "}\n",
              "\n",
              "/**\n",
              " * Generator function which is called between each async step of the upload\n",
              " * process.\n",
              " * @param {string} inputId Element ID of the input file picker element.\n",
              " * @param {string} outputId Element ID of the output display.\n",
              " * @return {!Iterable<!Object>} Iterable of next steps.\n",
              " */\n",
              "function* uploadFilesStep(inputId, outputId) {\n",
              "  const inputElement = document.getElementById(inputId);\n",
              "  inputElement.disabled = false;\n",
              "\n",
              "  const outputElement = document.getElementById(outputId);\n",
              "  outputElement.innerHTML = '';\n",
              "\n",
              "  const pickedPromise = new Promise((resolve) => {\n",
              "    inputElement.addEventListener('change', (e) => {\n",
              "      resolve(e.target.files);\n",
              "    });\n",
              "  });\n",
              "\n",
              "  const cancel = document.createElement('button');\n",
              "  inputElement.parentElement.appendChild(cancel);\n",
              "  cancel.textContent = 'Cancel upload';\n",
              "  const cancelPromise = new Promise((resolve) => {\n",
              "    cancel.onclick = () => {\n",
              "      resolve(null);\n",
              "    };\n",
              "  });\n",
              "\n",
              "  // Wait for the user to pick the files.\n",
              "  const files = yield {\n",
              "    promise: Promise.race([pickedPromise, cancelPromise]),\n",
              "    response: {\n",
              "      action: 'starting',\n",
              "    }\n",
              "  };\n",
              "\n",
              "  cancel.remove();\n",
              "\n",
              "  // Disable the input element since further picks are not allowed.\n",
              "  inputElement.disabled = true;\n",
              "\n",
              "  if (!files) {\n",
              "    return {\n",
              "      response: {\n",
              "        action: 'complete',\n",
              "      }\n",
              "    };\n",
              "  }\n",
              "\n",
              "  for (const file of files) {\n",
              "    const li = document.createElement('li');\n",
              "    li.append(span(file.name, {fontWeight: 'bold'}));\n",
              "    li.append(span(\n",
              "        `(${file.type || 'n/a'}) - ${file.size} bytes, ` +\n",
              "        `last modified: ${\n",
              "            file.lastModifiedDate ? file.lastModifiedDate.toLocaleDateString() :\n",
              "                                    'n/a'} - `));\n",
              "    const percent = span('0% done');\n",
              "    li.appendChild(percent);\n",
              "\n",
              "    outputElement.appendChild(li);\n",
              "\n",
              "    const fileDataPromise = new Promise((resolve) => {\n",
              "      const reader = new FileReader();\n",
              "      reader.onload = (e) => {\n",
              "        resolve(e.target.result);\n",
              "      };\n",
              "      reader.readAsArrayBuffer(file);\n",
              "    });\n",
              "    // Wait for the data to be ready.\n",
              "    let fileData = yield {\n",
              "      promise: fileDataPromise,\n",
              "      response: {\n",
              "        action: 'continue',\n",
              "      }\n",
              "    };\n",
              "\n",
              "    // Use a chunked sending to avoid message size limits. See b/62115660.\n",
              "    let position = 0;\n",
              "    do {\n",
              "      const length = Math.min(fileData.byteLength - position, MAX_PAYLOAD_SIZE);\n",
              "      const chunk = new Uint8Array(fileData, position, length);\n",
              "      position += length;\n",
              "\n",
              "      const base64 = btoa(String.fromCharCode.apply(null, chunk));\n",
              "      yield {\n",
              "        response: {\n",
              "          action: 'append',\n",
              "          file: file.name,\n",
              "          data: base64,\n",
              "        },\n",
              "      };\n",
              "\n",
              "      let percentDone = fileData.byteLength === 0 ?\n",
              "          100 :\n",
              "          Math.round((position / fileData.byteLength) * 100);\n",
              "      percent.textContent = `${percentDone}% done`;\n",
              "\n",
              "    } while (position < fileData.byteLength);\n",
              "  }\n",
              "\n",
              "  // All done.\n",
              "  yield {\n",
              "    response: {\n",
              "      action: 'complete',\n",
              "    }\n",
              "  };\n",
              "}\n",
              "\n",
              "scope.google = scope.google || {};\n",
              "scope.google.colab = scope.google.colab || {};\n",
              "scope.google.colab._files = {\n",
              "  _uploadFiles,\n",
              "  _uploadFilesContinue,\n",
              "};\n",
              "})(self);\n",
              "</script> "
            ]
          },
          "metadata": {}
        },
        {
          "output_type": "stream",
          "name": "stdout",
          "text": [
            "Saving 반려동물 유무 및 취득 경로.csv to 반려동물 유무 및 취득 경로.csv\n"
          ]
        }
      ],
      "source": [
        "from google.colab import files\n",
        "uploaded = files.upload()"
      ]
    },
    {
      "cell_type": "code",
      "source": [
        "import pandas as pd\n",
        "\n",
        "# 파일 이름을 적절하게 수정\n",
        "file_name = '/content/반려동물 유무 및 취득 경로.csv'\n",
        "\n",
        "# CSV 파일을 Pandas 데이터프레임으로 읽기\n",
        "df = pd.read_csv(file_name)"
      ],
      "metadata": {
        "id": "N2iTRMEW5SNr"
      },
      "execution_count": 39,
      "outputs": []
    },
    {
      "cell_type": "code",
      "source": [
        "df = df.iloc[:, :4]"
      ],
      "metadata": {
        "id": "YyepiNBX5qKy"
      },
      "execution_count": 40,
      "outputs": []
    },
    {
      "cell_type": "code",
      "source": [
        "df = df[df['구분별(1)'].isin(['구분별(1)','연령별', '주택형태'])]"
      ],
      "metadata": {
        "id": "fozQkqEr6Vzd"
      },
      "execution_count": 41,
      "outputs": []
    },
    {
      "cell_type": "code",
      "source": [
        "# 첫 번째 행을 열 이름으로 설정\n",
        "df.columns = df.iloc[0]\n",
        "\n",
        "# 첫 번째 행 삭제\n",
        "df = df.drop(0)"
      ],
      "metadata": {
        "id": "xRVM6bg37QbI"
      },
      "execution_count": 42,
      "outputs": []
    },
    {
      "cell_type": "code",
      "source": [
        "df.columns = df.iloc[0]\n",
        "df = df.drop(1)"
      ],
      "metadata": {
        "id": "ksjMTNX17cvU"
      },
      "execution_count": 43,
      "outputs": []
    },
    {
      "cell_type": "code",
      "source": [
        "# 마지막 열 삭제\n",
        "df = df.iloc[:, :-1]"
      ],
      "metadata": {
        "id": "7OGUsyyI7hee"
      },
      "execution_count": 44,
      "outputs": []
    },
    {
      "cell_type": "code",
      "source": [
        "# \"있다\" 열의 값을 실수로 변환\n",
        "df['있다'] = df['있다'].astype(float)"
      ],
      "metadata": {
        "id": "b-eHtbkO8yjO"
      },
      "execution_count": 45,
      "outputs": []
    },
    {
      "cell_type": "code",
      "source": [
        "ageSum = df.iloc[0:5, :].sum(axis=0)['있다']\n",
        "print(ageSum)"
      ],
      "metadata": {
        "colab": {
          "base_uri": "https://localhost:8080/"
        },
        "id": "u6u7c1Ba8ZbE",
        "outputId": "63d01ef1-84a9-486d-a3bc-9a4a7e82aafb"
      },
      "execution_count": 46,
      "outputs": [
        {
          "output_type": "stream",
          "name": "stdout",
          "text": [
            "110.4\n"
          ]
        }
      ]
    },
    {
      "cell_type": "code",
      "source": [
        "df['ageIdx'] = df['있다'] / ageSum"
      ],
      "metadata": {
        "id": "G78CnWYT9Kkm"
      },
      "execution_count": 47,
      "outputs": []
    },
    {
      "cell_type": "code",
      "source": [
        "houseSum = df.iloc[5:9, :]['있다'].sum()\n",
        "print(houseSum)"
      ],
      "metadata": {
        "colab": {
          "base_uri": "https://localhost:8080/"
        },
        "id": "jjKIcFRh95PB",
        "outputId": "6a6e6d6c-abe4-46fd-96fe-66d6ae986c12"
      },
      "execution_count": 48,
      "outputs": [
        {
          "output_type": "stream",
          "name": "stdout",
          "text": [
            "84.6\n"
          ]
        }
      ]
    },
    {
      "cell_type": "code",
      "source": [
        "df['houseIdx'] = df['있다'] / houseSum"
      ],
      "metadata": {
        "id": "xtyogP4O-Sta"
      },
      "execution_count": 49,
      "outputs": []
    },
    {
      "cell_type": "code",
      "source": [
        "df.reset_index(drop=True, inplace=True)"
      ],
      "metadata": {
        "id": "Ghnugdh1--eX"
      },
      "execution_count": 50,
      "outputs": []
    },
    {
      "cell_type": "code",
      "source": [
        "df.loc[5:8, 'ageIdx'] = 0"
      ],
      "metadata": {
        "id": "1_FMJq2S-Y2J"
      },
      "execution_count": 52,
      "outputs": []
    },
    {
      "cell_type": "code",
      "source": [
        "df.loc[0:4, 'houseIdx'] = 0"
      ],
      "metadata": {
        "id": "H2PSNmTm_Bfo"
      },
      "execution_count": 54,
      "outputs": []
    },
    {
      "cell_type": "code",
      "source": [
        "df.drop('있다', axis=1, inplace=True)"
      ],
      "metadata": {
        "id": "xTgJc-nk_2kR"
      },
      "execution_count": 58,
      "outputs": []
    },
    {
      "cell_type": "code",
      "source": [
        "print(df)"
      ],
      "metadata": {
        "colab": {
          "base_uri": "https://localhost:8080/"
        },
        "id": "l3uQHPmU5mLh",
        "outputId": "354cbd78-d656-4ba9-af13-43a3a4e8a12f"
      },
      "execution_count": 59,
      "outputs": [
        {
          "output_type": "stream",
          "name": "stdout",
          "text": [
            "1 구분별(1)  구분별(2)    ageIdx  houseIdx\n",
            "0    연령별  20대 이하  0.181159  0.000000\n",
            "1    연령별     30대  0.181159  0.000000\n",
            "2    연령별     40대  0.219203  0.000000\n",
            "3    연령별     50대  0.224638  0.000000\n",
            "4    연령별  60세 이상  0.193841  0.000000\n",
            "5   주택형태    단독주택  0.000000  0.230496\n",
            "6   주택형태     아파트  0.000000  0.301418\n",
            "7   주택형태   다세대주택  0.000000  0.242317\n",
            "8   주택형태   연립/기타  0.000000  0.225768\n"
          ]
        }
      ]
    },
    {
      "cell_type": "code",
      "source": [
        "df = df.transpose()"
      ],
      "metadata": {
        "id": "97PQBHDf93_m"
      },
      "execution_count": 41,
      "outputs": []
    },
    {
      "cell_type": "code",
      "source": [
        "# 맨 위의 행을 속성으로 이동\n",
        "df.columns = df.iloc[0]\n",
        "\n",
        "# 인덱스를 재설정\n",
        "df.reset_index(drop=True, inplace=True)\n",
        "\n",
        "# 맨 위의 행 삭제\n",
        "df = df.drop(0)\n",
        "\n",
        "# 2번 실행"
      ],
      "metadata": {
        "id": "-0a9iymZ-cmI"
      },
      "execution_count": 43,
      "outputs": []
    },
    {
      "cell_type": "code",
      "source": [
        "import numpy as np\n",
        "# 인덱스를 재설정\n",
        "df.reset_index(drop=True, inplace=True)\n",
        "\n",
        "df.iloc[0] = np.where(df.iloc[0] == 0, df.iloc[1], df.iloc[0])"
      ],
      "metadata": {
        "id": "F-WRBpz0AXyX"
      },
      "execution_count": 52,
      "outputs": []
    },
    {
      "cell_type": "code",
      "source": [
        "df = df.drop(df.index[-1])"
      ],
      "metadata": {
        "id": "majeeu-dA6QW"
      },
      "execution_count": 54,
      "outputs": []
    },
    {
      "cell_type": "code",
      "source": [
        "print(df)"
      ],
      "metadata": {
        "colab": {
          "base_uri": "https://localhost:8080/"
        },
        "id": "7V6WplP0-WWE",
        "outputId": "6c5ef9dc-19c0-4e26-9ff3-4494118b565a"
      },
      "execution_count": 55,
      "outputs": [
        {
          "output_type": "stream",
          "name": "stdout",
          "text": [
            "1    20대 이하       30대       40대       50대    60세 이상      단독주택       아파트  \\\n",
            "0  0.181159  0.181159  0.219203  0.224638  0.193841  0.230496  0.301418   \n",
            "\n",
            "1     다세대주택     연립/기타  \n",
            "0  0.242317  0.225768  \n"
          ]
        }
      ]
    },
    {
      "cell_type": "code",
      "source": [
        "df.to_csv('연령및주택별_비율.csv', index=False)"
      ],
      "metadata": {
        "id": "d6z6xV0__cZP"
      },
      "execution_count": 56,
      "outputs": []
    }
  ]
}