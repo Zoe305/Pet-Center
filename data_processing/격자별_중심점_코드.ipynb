{
  "nbformat": 4,
  "nbformat_minor": 0,
  "metadata": {
    "colab": {
      "provenance": []
    },
    "kernelspec": {
      "name": "python3",
      "display_name": "Python 3"
    },
    "language_info": {
      "name": "python"
    }
  },
  "cells": [
    {
      "cell_type": "code",
      "execution_count": null,
      "metadata": {
        "id": "h4BegZ_mqCUP"
      },
      "outputs": [],
      "source": [
        "from google.colab import files\n",
        "uploaded = files.upload()"
      ]
    },
    {
      "cell_type": "code",
      "source": [
        "import pandas as pd\n",
        "\n",
        "# 파일 이름을 적절하게 수정\n",
        "file_name = '/content/격자별_포인트.csv'\n",
        "\n",
        "# CSV 파일을 Pandas 데이터프레임으로 읽기\n",
        "df = pd.read_csv(file_name)"
      ],
      "metadata": {
        "id": "qYHb7WkyqHMA"
      },
      "execution_count": 9,
      "outputs": []
    },
    {
      "cell_type": "code",
      "source": [
        "df['index'] = df.index"
      ],
      "metadata": {
        "id": "I7_DEQFasEVY"
      },
      "execution_count": 10,
      "outputs": []
    },
    {
      "cell_type": "code",
      "source": [
        "import pandas as pd\n",
        "from pyproj import Transformer\n",
        "transformer = Transformer.from_crs(\"EPSG:5179\", \"EPSG:4326\")\n",
        "df['위도'], df['경도'] = transformer.transform(df['ycoord'].values, df['xcoord'].values)"
      ],
      "metadata": {
        "id": "SoGcwd_vr1CV"
      },
      "execution_count": 11,
      "outputs": []
    },
    {
      "cell_type": "code",
      "source": [
        "df = df[['index', '위도', '경도']]"
      ],
      "metadata": {
        "id": "ewdGzuBPsIrU"
      },
      "execution_count": 14,
      "outputs": []
    },
    {
      "cell_type": "code",
      "source": [
        "print(df)"
      ],
      "metadata": {
        "colab": {
          "base_uri": "https://localhost:8080/"
        },
        "id": "HbZu3yJ4qI5w",
        "outputId": "e20c684b-09c6-4e15-aa4e-28e25478521f"
      },
      "execution_count": 15,
      "outputs": [
        {
          "output_type": "stream",
          "name": "stdout",
          "text": [
            "     index         위도          경도\n",
            "0        0  37.510214  126.822517\n",
            "1        1  37.514720  126.822476\n",
            "2        2  37.516973  126.822456\n",
            "3        3  37.532746  126.822313\n",
            "4        4  37.534999  126.822293\n",
            "..     ...        ...         ...\n",
            "341    341  37.537608  126.887353\n",
            "342    342  37.539861  126.887335\n",
            "343    343  37.530863  126.890238\n",
            "344    344  37.533116  126.890219\n",
            "345    345  37.535370  126.890201\n",
            "\n",
            "[346 rows x 3 columns]\n"
          ]
        }
      ]
    },
    {
      "cell_type": "code",
      "source": [
        "df.to_csv('격자별_중심점.csv', index=False)"
      ],
      "metadata": {
        "id": "4vIR3A8Zsa_b"
      },
      "execution_count": 16,
      "outputs": []
    }
  ]
}